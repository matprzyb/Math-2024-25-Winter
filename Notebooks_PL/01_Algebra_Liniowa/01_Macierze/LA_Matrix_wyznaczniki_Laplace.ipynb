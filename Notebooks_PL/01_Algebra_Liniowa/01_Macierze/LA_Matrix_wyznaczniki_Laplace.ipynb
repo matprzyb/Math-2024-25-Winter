{
  "cells": [
    {
      "cell_type": "markdown",
      "metadata": {
        "id": "SKKUD4P6aOQm"
      },
      "source": [
        "\n",
        "\n",
        "## Wyznacznik macierzy 3x3 metodą Laplace'a\n",
        "\n",
        "Ogólny wzór dla wyznacznika macierzy 3x3 wygląda następująco:\n",
        "\n",
        "$$\n",
        "\\mathbf{A} =\n",
        "\\begin{pmatrix}\n",
        "a_{11} & a_{12} & a_{13} \\\\\n",
        "a_{21} & a_{22} & a_{23} \\\\\n",
        "a_{31} & a_{32} & a_{33}\n",
        "\\end{pmatrix}\n",
        "$$\n",
        "\n",
        "Wyznacznik macierzy 3x3 obliczamy, rozwijając po pierwszym wierszu. Stosujemy rozwinięcie Laplace’a, które polega na wybraniu elementów pierwszego wiersza oraz obliczeniu wyznaczników macierzy 2x2, które powstają po usunięciu odpowiednich wierszy i kolumn.\n",
        "\n",
        "Rozwinięcie po pierwszym wierszu macierzy 3x3:\n",
        "\n",
        "$$\n",
        "\\text{det}(A) =\n",
        "(-1)^{1+1}a_{11} \\cdot\n",
        "\\text{det}\n",
        "\\begin{pmatrix}\n",
        "a_{22} & a_{23} \\\\\n",
        "a_{32} & a_{33}\n",
        "\\end{pmatrix}\n",
        "+(-1)^{1+2} a_{12} \\cdot \\text{det}\n",
        "\\begin{pmatrix}\n",
        "a_{21} & a_{23} \\\\\n",
        "a_{31} & a_{33}\n",
        "\\end{pmatrix}\n",
        "+(-1)^{1+3}a_{13} \\cdot \\text{det}\n",
        "\\begin{pmatrix}\n",
        "a_{21} & a_{22} \\\\\n",
        "a_{31} & a_{32}\n",
        "\\end{pmatrix}\n",
        "$$\n",
        "\n"
      ]
    },
    {
      "cell_type": "markdown",
      "metadata": {
        "id": "yngEADwwaOQn"
      },
      "source": [
        "### Przykład macierzy 3x3\n",
        "\n",
        "Dla macierzy:\n",
        "\n",
        "$$\n",
        "\\mathbf{A} =\n",
        "\\begin{pmatrix}\n",
        "2 & 3 & 1 \\\\\n",
        "1 & 4 & 5 \\\\\n",
        "3 & 2 & 1\n",
        "\\end{pmatrix}\n",
        "$$\n",
        "\n",
        "Rozwinięcie Laplace'a:\n",
        "\n",
        "$$\n",
        "\\text{det}(A) = 2 \\cdot\n",
        "\\text{det}\n",
        "\\begin{pmatrix}\n",
        "4 & 5 \\\\\n",
        "2 & 1\n",
        "\\end{pmatrix}\n",
        "- 3 \\cdot\n",
        "\\text{det}\n",
        "\\begin{pmatrix}\n",
        "1 & 5 \\\\\n",
        "3 & 1\n",
        "\\end{pmatrix}\n",
        "+ 1 \\cdot\n",
        "\\text{det}\n",
        "\\begin{pmatrix}\n",
        "1 & 4 \\\\\n",
        "3 & 2\n",
        "\\end{pmatrix}\n",
        "$$\n",
        "\n",
        "## Wyznacznik macierzy 4x4 metodą Laplace'a\n",
        "\n",
        "Ogólny wzór dla wyznacznika macierzy 4x4, gdzie macierz wygląda następująco:\n",
        "\n",
        "$$\n",
        "\\mathbf{B} =\n",
        "\\begin{pmatrix}\n",
        "a_{11} & a_{12} & a_{13} & a_{14} \\\\\n",
        "a_{21} & a_{22} & a_{23} & a_{24} \\\\\n",
        "a_{31} & a_{32} & a_{33} & a_{34} \\\\\n",
        "a_{41} & a_{42} & a_{43} & a_{44}\n",
        "\\end{pmatrix}\n",
        "$$\n",
        "\n",
        "Wyznacznik macierzy 4x4 obliczamy, rozwijając po pierwszym wierszu. Podobnie jak w przypadku macierzy 3x3, elementy pierwszego wiersza są mnożone przez wyznaczniki macierzy 3x3, które powstają po usunięciu odpowiednich wierszy i kolumn.\n",
        "\n",
        "Rozwinięcie po pierwszym wierszu macierzy 4x4:\n",
        "\n",
        "$$\n",
        "\\text{det}(B) =\n",
        "(-1)^{1+1} \\cdot\n",
        "a_{11} \\cdot \\text{det}\n",
        "\\begin{pmatrix}\n",
        "a_{22} & a_{23} & a_{24} \\\\\n",
        "a_{32} & a_{33} & a_{34} \\\\\n",
        "a_{42} & a_{43} & a_{44}\n",
        "\\end{pmatrix}\n",
        "+ (-1)^{1+2} \\cdot\n",
        "a_{12} \\cdot \\text{det}\n",
        "\\begin{pmatrix}\n",
        "a_{21} & a_{23} & a_{24} \\\\\n",
        "a_{31} & a_{33} & a_{34} \\\\\n",
        "a_{41} & a_{43} & a_{44}\n",
        "\\end{pmatrix}\n",
        "+ (-1)^{1+3} \\cdot\n",
        "a_{13} \\cdot \\text{det}\n",
        "\\begin{pmatrix}\n",
        "a_{21} & a_{22} & a_{24} \\\\\n",
        "a_{31} & a_{32} & a_{34} \\\\\n",
        "a_{41} & a_{42} & a_{44}\n",
        "\\end{pmatrix}\n",
        "+ (-1)^{1+4} \\cdot\n",
        "a_{14} \\cdot \\text{det}\n",
        "\\begin{pmatrix}\n",
        "a_{21} & a_{22} & a_{23} \\\\\n",
        "a_{31} & a_{32} & a_{33} \\\\\n",
        "a_{41} & a_{42} & a_{43}\n",
        "\\end{pmatrix}\n",
        "$$\n",
        "\n",
        "### Przykład macierzy 4x4\n",
        "\n",
        "Dla macierzy:\n",
        "\n",
        "$$\n",
        "\\mathbf{B} =\n",
        "\\begin{pmatrix}\n",
        "2 & 3 & 1 & 4 \\\\\n",
        "1 & 4 & 5 & 6 \\\\\n",
        "3 & 2 & 1 & 5 \\\\\n",
        "2 & 1 & 4 & 3\n",
        "\\end{pmatrix}\n",
        "$$\n",
        "\n",
        "Rozwinięcie Laplace'a:\n",
        "\n",
        "$$\n",
        "\\text{det}(B) = 2 \\cdot \\text{det}\n",
        "\\begin{pmatrix}\n",
        "4 & 5 & 6 \\\\\n",
        "2 & 1 & 5 \\\\\n",
        "1 & 4 & 3\n",
        "\\end{pmatrix}\n",
        "- 3 \\cdot \\text{det}\n",
        "\\begin{pmatrix}\n",
        "1 & 5 & 6 \\\\\n",
        "3 & 1 & 5 \\\\\n",
        "2 & 4 & 3\n",
        "\\end{pmatrix}\n",
        "+ 1 \\cdot \\text{det}\n",
        "\\begin{pmatrix}\n",
        "1 & 4 & 6 \\\\\n",
        "3 & 2 & 5 \\\\\n",
        "2 & 1 & 3\n",
        "\\end{pmatrix}\n",
        "- 4 \\cdot \\text{det}\n",
        "\\begin{pmatrix}\n",
        "1 & 4 & 5 \\\\\n",
        "3 & 2 & 1 \\\\\n",
        "2 & 1 & 4\n",
        "\\end{pmatrix}\n",
        "$$"
      ]
    },
    {
      "cell_type": "markdown",
      "metadata": {
        "id": "2IuSHzrZaOQn"
      },
      "source": [
        "\n",
        "### Obliczanie wyznaczników w Pythonie przy użyciu SymPy\n",
        "\n",
        "Poniżej obliczymy wyznaczniki macierzy 3x3 i 4x4, wykorzystując metodę Laplace'a w Pythonie, korzystając z biblioteki **SymPy**."
      ]
    },
    {
      "cell_type": "code",
      "execution_count": null,
      "metadata": {
        "id": "lz3PAn7laOQo",
        "outputId": "1303b345-f1bc-451b-fb34-244c0d448f4d"
      },
      "outputs": [
        {
          "data": {
            "text/latex": [
              "$\\displaystyle \\left[\\begin{matrix}2 & 3 & 1\\\\1 & 4 & 5\\\\3 & 2 & 1\\end{matrix}\\right]$"
            ],
            "text/plain": [
              "Matrix([\n",
              "[2, 3, 1],\n",
              "[1, 4, 5],\n",
              "[3, 2, 1]])"
            ]
          },
          "execution_count": 6,
          "metadata": {},
          "output_type": "execute_result"
        }
      ],
      "source": [
        "import sympy as sp\n",
        "\n",
        "# Macierz 3x3\n",
        "A = sp.Matrix([[2, 3, 1], [1, 4, 5], [3, 2, 1]])\n",
        "A"
      ]
    },
    {
      "cell_type": "code",
      "execution_count": null,
      "metadata": {
        "id": "buI21XuWaOQo",
        "outputId": "888edd4d-f1d5-46ed-d2d2-32eb63c1a30b"
      },
      "outputs": [
        {
          "data": {
            "text/plain": [
              "True"
            ]
          },
          "execution_count": 7,
          "metadata": {},
          "output_type": "execute_result"
        }
      ],
      "source": [
        "# Wybieramy pierwszy wiersz [2,3,1]\n",
        "# Definiujemy odpowiednie minory\n",
        "M11 = sp.Matrix([[4, 5], [2, 1]])\n",
        "M12 = sp.Matrix([[1, 5], [3, 1]])\n",
        "M13 = sp.Matrix([[1, 4], [3, 2]])\n",
        "\n",
        "# Obliczamy wyznacznik\n",
        "d=2*M11.det()-3*M12.det()+1*M13.det()\n",
        "\n",
        "d==A.det()"
      ]
    },
    {
      "cell_type": "code",
      "execution_count": null,
      "metadata": {
        "id": "0snVAzliaOQp",
        "outputId": "0380b862-3771-495f-d3bb-69f6dce30052"
      },
      "outputs": [
        {
          "data": {
            "text/latex": [
              "$\\displaystyle \\left[\\begin{matrix}2 & 0 & 1 & 0\\\\1 & 4 & 5 & 6\\\\3 & 2 & 1 & 5\\\\2 & 1 & 4 & 3\\end{matrix}\\right]$"
            ],
            "text/plain": [
              "Matrix([\n",
              "[2, 0, 1, 0],\n",
              "[1, 4, 5, 6],\n",
              "[3, 2, 1, 5],\n",
              "[2, 1, 4, 3]])"
            ]
          },
          "execution_count": 8,
          "metadata": {},
          "output_type": "execute_result"
        }
      ],
      "source": [
        "# Macierz 4x4\n",
        "B = sp.Matrix([[2, 0, 1, 0], [1, 4, 5, 6], [3, 2, 1, 5], [2, 1, 4, 3]])\n",
        "B"
      ]
    },
    {
      "cell_type": "code",
      "execution_count": null,
      "metadata": {
        "id": "La1kTPq7aOQp",
        "outputId": "cfc2451c-34a6-4468-8a00-258b6dc84a34"
      },
      "outputs": [
        {
          "data": {
            "text/plain": [
              "True"
            ]
          },
          "execution_count": 9,
          "metadata": {},
          "output_type": "execute_result"
        }
      ],
      "source": [
        "# Sprawdzenie poprawności obliczeń\n",
        "M11 = sp.Matrix([[4, 5, 6], [2, 1, 5], [1, 4, 3]])\n",
        "M12 = sp.Matrix([[1, 5, 6], [3, 1, 5], [2, 4, 3]])\n",
        "M13 = sp.Matrix([[1, 4, 6], [3, 2, 5], [2, 1, 3]])\n",
        "M14 = sp.Matrix([[1, 4, 5], [3, 2, 1], [2, 1, 4]])\n",
        "\n",
        "(2*M11.det() - 0*M12.det() + 1*M13.det() - 0*M14.det()) == B.det()\n",
        "\n",
        "d = 2*M11.det() - 0*M12.det() + 1*M13.det() - 0*M14.det()\n",
        "d == B.det()"
      ]
    },
    {
      "cell_type": "markdown",
      "metadata": {
        "id": "VVlNDR99aOQp"
      },
      "source": [
        "Zauważ, że tylko pierwszy i trzeci składnik mają niezerowe współczynniki, więc wyznaczników wszystkich miniorów nie trzeba obliczać!"
      ]
    },
    {
      "cell_type": "markdown",
      "metadata": {
        "id": "OVS82TkBaOQp"
      },
      "source": [
        "---\n",
        "\n",
        "## Zadania dla studentów\n",
        "\n",
        "Oblicz wyznaczniki następujących macierzy:\n",
        "\n",
        "\n",
        "$$\n",
        "\\mathbf{A} =\n",
        "\\begin{pmatrix}\n",
        "2 & 3 & 1 \\\\\n",
        "1 & 4 & 0 \\\\\n",
        "3 & 2 & 1\n",
        "\\end{pmatrix}\n",
        ",\\qquad\n",
        "\\mathbf{B} =\n",
        "\\begin{pmatrix}\n",
        "2 & 3 & 1 \\\\\n",
        "1 & 4 & 0 \\\\\n",
        "3 & 2 & 0  \\\\\n",
        "\\end{pmatrix}\n",
        ",\\qquad\n",
        "\\mathbf{C} =\n",
        "\\begin{pmatrix}\n",
        "2 & 3 & 1 & 4 \\\\\n",
        "1 & 0 & 0 & 6 \\\\\n",
        "3 & 2 & 1 & 5 \\\\\n",
        "2 & 1 & 4 & 0\n",
        "\\end{pmatrix}\n",
        ",\\qquad\n",
        "\\mathbf{D} =\n",
        "\\begin{pmatrix}\n",
        "2 & 3 & 1 & 4 & 5 \\\\\n",
        "1 & 4 & 0 & 0 & 7 \\\\\n",
        "3 & 0 & 0 & 0 & 0 \\\\\n",
        "2 & 1 & 4 & 3 & 2 \\\\\n",
        "1 & 2 & 3 & 4 & 5\n",
        "\\end{pmatrix}\n",
        "$$\n",
        "\n",
        "\n",
        "\n",
        "\n",
        "\n",
        "\n",
        "\n"
      ]
    },
    {
      "cell_type": "code",
      "source": [
        "import sympy as sp\n",
        "\n",
        "\n",
        "\n",
        "A = sp.Matrix([[2, 3, 1],\n",
        "               [1, 4, 0],\n",
        "               [3, 2, 1]])\n",
        "\n",
        "MA1 = sp.Matrix([[4, 0],\n",
        "                 [2, 1]])\n",
        "\n",
        "MA2 = sp.Matrix([[1, 0],\n",
        "                 [3, 1]])\n",
        "\n",
        "MA3 = sp.Matrix([[1, 4],\n",
        "                 [3, 2]])\n",
        "\n",
        "2 * MA1.det() -3 * MA2.det() + 1 *MA3.det() == A.det()\n",
        "\n",
        "\n",
        "B = sp.Matrix([[2, 3, 1],\n",
        "               [1, 4, 0],\n",
        "               [3, 2, 0]])\n",
        "\n",
        "MB1 = sp.Matrix([[4, 0],\n",
        "                 [2, 0]])\n",
        "\n",
        "MB2 = sp.Matrix([[1, 0],\n",
        "                 [3, 0]])\n",
        "\n",
        "MB3 = sp.Matrix([[1, 4],\n",
        "                 [3, 2]])\n",
        "\n",
        "2 * MB1.det() - 3 * MB2.det() + 1 * MB3.det() == B.det()\n",
        "\n",
        "\n",
        "C = sp.Matrix([[2, 3, 1, 4],\n",
        "               [1, 0, 0, 6],\n",
        "               [3, 2, 1, 5],\n",
        "               [2, 1, 4, 0]])\n",
        "\n",
        "MC1 = sp.Matrix([[0, 0, 6],\n",
        "                 [2, 1, 5],\n",
        "                 [1, 4, 0]])\n",
        "\n",
        "MC2 = sp.Matrix([[1, 0, 6],\n",
        "                 [3, 1, 5],\n",
        "                 [2, 4, 0]])\n",
        "\n",
        "MC3 = sp.Matrix([[1, 0, 6],\n",
        "                 [3, 2, 5],\n",
        "                 [2, 1, 0]])\n",
        "\n",
        "MC4 = sp.Matrix([[1, 0, 0],\n",
        "                 [3, 2, 1],\n",
        "                 [2, 1, 4]])\n",
        "\n",
        "2 * MC1.det() - 3 * MC2.det() + 1 * MC3.det() -4 * MC4.det() == C.det()\n",
        "\n",
        "\n",
        "D = sp.Matrix([[2, 3, 1, 4, 5],\n",
        "               [1, 4, 0, 0, 7],\n",
        "               [3, 0, 0, 0, 0],\n",
        "               [2, 1, 4, 3, 2],\n",
        "               [1, 2, 3, 4, 5]])\n",
        "\n",
        "MD1 = sp.Matrix([[4, 0, 0, 7],\n",
        "                 [0, 0, 0, 0],\n",
        "                 [1, 4, 3, 2],\n",
        "                 [2, 3, 4, 5]])\n",
        "\n",
        "MD2 = sp.Matrix([[1, 0, 0, 7],\n",
        "                 [3, 0, 0, 0],\n",
        "                 [2, 4, 3, 2],\n",
        "                 [1, 3, 4, 5]])\n",
        "\n",
        "MD3 = sp.Matrix([[1, 4, 0, 7],\n",
        "                 [3, 0, 0, 0],\n",
        "                 [2, 1, 3, 2],\n",
        "                 [1, 2, 4, 5]])\n",
        "\n",
        "MD4 = sp.Matrix([[1, 4, 0, 7],\n",
        "                 [3, 0, 0, 0],\n",
        "                 [2, 1, 4, 2],\n",
        "                 [1, 2, 3, 5]])\n",
        "\n",
        "MD5 = sp.Matrix([[1, 4, 0, 0],\n",
        "                 [3, 0, 0, 0],\n",
        "                 [2, 1, 4, 3],\n",
        "                 [1, 2, 3, 4]])\n",
        "\n",
        "2 * MD1.det() - 3 * MD2.det() + 1 * MD3.det() - 4 * MD4.det() + 5 * MD5.det() == D.det()"
      ],
      "metadata": {
        "id": "l7TDbtdIgVKZ",
        "outputId": "408db5c2-447e-4d3b-d7f9-52e5be9be58c",
        "colab": {
          "base_uri": "https://localhost:8080/"
        }
      },
      "execution_count": 6,
      "outputs": [
        {
          "output_type": "execute_result",
          "data": {
            "text/plain": [
              "True"
            ]
          },
          "metadata": {},
          "execution_count": 6
        }
      ]
    }
  ],
  "metadata": {
    "kernelspec": {
      "display_name": "Python 3 (ipykernel)",
      "language": "python",
      "name": "python3",
      "path": "/home/dch/repos/Math-2024-25-Winter/.venv/share/jupyter/kernels/python3"
    },
    "language_info": {
      "codemirror_mode": {
        "name": "ipython",
        "version": 3
      },
      "file_extension": ".py",
      "mimetype": "text/x-python",
      "name": "python",
      "nbconvert_exporter": "python",
      "pygments_lexer": "ipython3",
      "version": "3.11.9"
    },
    "colab": {
      "provenance": []
    }
  },
  "nbformat": 4,
  "nbformat_minor": 0
}